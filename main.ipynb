{
 "cells": [
  {
   "cell_type": "markdown",
   "metadata": {},
   "source": [
    "# Step 1: Get JSON Data\n"
   ]
  },
  {
   "cell_type": "code",
   "execution_count": 2,
   "metadata": {},
   "outputs": [
    {
     "data": {
      "text/plain": [
       "{'0': {'Netflix': 'Stranger Things', 'Quibi': 'Most Dangerous Game'},\n",
       " '1': {'Netflix': 'Money Heist', 'Quibi': 'The Stranger'},\n",
       " '2': {'Netflix': 'House of Cards', 'Quibi': '50 States of Fright'},\n",
       " '3': {'Netflix': 'Rick and Morty', 'Quibi': 'Flipped'},\n",
       " '4': {'Netflix': 'Better Call Saul', 'Quibi': 'Survival'}}"
      ]
     },
     "execution_count": 2,
     "metadata": {},
     "output_type": "execute_result"
    }
   ],
   "source": [
    "{\n",
    "  \"0\": {\n",
    "    \"Netflix\": \"Stranger Things\",\n",
    "    \"Quibi\": \"Most Dangerous Game\"\n",
    "  },\n",
    "  \"1\": {\n",
    "    \"Netflix\": \"Money Heist\",\n",
    "    \"Quibi\": \"The Stranger\"\n",
    "  },\n",
    "  \"2\": {\n",
    "    \"Netflix\": \"House of Cards\",\n",
    "    \"Quibi\": \"50 States of Fright\"\n",
    "  },\n",
    "  \"3\": {\n",
    "    \"Netflix\": \"Rick and Morty\",\n",
    "    \"Quibi\": \"Flipped\"\n",
    "  },\n",
    "  \"4\": {\n",
    "    \"Netflix\": \"Better Call Saul\",\n",
    "    \"Quibi\": \"Survival\"\n",
    "  }\n",
    "}"
   ]
  },
  {
   "cell_type": "markdown",
   "metadata": {},
   "source": [
    "# Step 2: Read JSON and transform it into Pandas object"
   ]
  },
  {
   "cell_type": "code",
   "execution_count": 3,
   "metadata": {},
   "outputs": [
    {
     "name": "stdout",
     "output_type": "stream",
     "text": [
      "            Netflix                Quibi\n",
      "0   Stranger Things  Most Dangerous Game\n",
      "1       Money Heist         The Stranger\n",
      "2    House of Cards  50 States of Fright\n",
      "3    Rick and Morty              Flipped\n",
      "4  Better Call Saul             Survival\n"
     ]
    }
   ],
   "source": [
    "import pandas as pd\n",
    "\n",
    "pdObj = pd.read_json('export.json', orient='index')\n",
    "print(pdObj)\n"
   ]
  },
  {
   "cell_type": "markdown",
   "metadata": {},
   "source": [
    "# Step 3: Converting pandas object to csv"
   ]
  },
  {
   "cell_type": "code",
   "execution_count": 4,
   "metadata": {},
   "outputs": [
    {
     "name": "stdout",
     "output_type": "stream",
     "text": [
      "Netflix,Quibi\n",
      "Stranger Things,Most Dangerous Game\n",
      "Money Heist,The Stranger\n",
      "House of Cards,50 States of Fright\n",
      "Rick and Morty,Flipped\n",
      "Better Call Saul,Survival\n",
      "\n"
     ]
    }
   ],
   "source": [
    "import pandas as pd\n",
    "\n",
    "pdObj = pd.read_json('export.json', orient='index')\n",
    "csvData = pdObj.to_csv(index=False)\n",
    "print(csvData)\n"
   ]
  },
  {
   "cell_type": "markdown",
   "metadata": {},
   "source": [
    "# Step 4: Downloading csv file"
   ]
  },
  {
   "cell_type": "code",
   "execution_count": 6,
   "metadata": {},
   "outputs": [],
   "source": [
    "import pandas as pd\n",
    "\n",
    "pdObj = pd.read_json('export.json', orient='index')\n",
    "\n",
    "csvData = pdObj.to_csv(index=False)\n",
    "pdObj.to_csv('streaming.csv', index=False)"
   ]
  }
 ],
 "metadata": {
  "interpreter": {
   "hash": "f2f012170f4a7c5e5ce5e8228719c5eeea4903a995f39a1917cc58e58b96d2ce"
  },
  "kernelspec": {
   "display_name": "Python 3.7.4 64-bit (conda)",
   "language": "python",
   "name": "python3"
  },
  "language_info": {
   "codemirror_mode": {
    "name": "ipython",
    "version": 3
   },
   "file_extension": ".py",
   "mimetype": "text/x-python",
   "name": "python",
   "nbconvert_exporter": "python",
   "pygments_lexer": "ipython3",
   "version": "3.7.4"
  },
  "orig_nbformat": 4
 },
 "nbformat": 4,
 "nbformat_minor": 2
}
